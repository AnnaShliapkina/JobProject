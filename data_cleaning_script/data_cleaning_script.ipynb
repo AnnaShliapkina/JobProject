{
 "cells": [
  {
   "cell_type": "markdown",
   "metadata": {},
   "source": [
    "# CSV Data Cleaning Script\n",
    "\n",
    "This Python script is designed to clean and format data in a CSV file, making it easier to work with. The script performs the following key tasks:\n",
    "\n",
    "1. **Date Formatting**:\n",
    "    - The script identifies the `Posting Date` column in the CSV file and formats all date entries to the `YYYY-MM-DD` format. This ensures consistency across the dataset.\n",
    "    - If a date is missing, incorrectly formatted, or not provided, the script replaces it with `N/A`.\n",
    "\n",
    "2. **Handling Missing or Invalid Data**:\n",
    "    - The script replaces any empty cells or cells containing a `\"-\"` with `\"N/A\"`. This standardization helps prevent issues during data analysis where missing values might otherwise cause errors or inconsistencies.\n",
    "\n",
    "3. **Saving the Cleaned Data**:\n",
    "    - After processing the data, the script saves the cleaned CSV file to the specified output path.\n"
   ]
  },
  {
   "cell_type": "code",
   "execution_count": 2,
   "metadata": {},
   "outputs": [],
   "source": [
    "import pandas as pd\n",
    "from datetime import datetime\n",
    "\n",
    "# Function to format dates to YYYY-MM-DD format\n",
    "def format_date(date_str):\n",
    "    \"\"\"\n",
    "    Formats a date string to 'YYYY-MM-DD'. If the input is NaN or 'N/A', returns 'N/A'.\n",
    "    \n",
    "    Parameters:\n",
    "    date_str (str or NaN): The date string to format.\n",
    "    \n",
    "    Returns:\n",
    "    str: The formatted date string or 'N/A' if the input is invalid or not a date.\n",
    "    \"\"\"\n",
    "    if pd.isna(date_str) or date_str == \"N/A\":\n",
    "        return \"N/A\"\n",
    "    try:\n",
    "        return datetime.strptime(str(date_str), \"%d/%m/%Y\").strftime(\"%Y-%m-%d\")\n",
    "    except ValueError:\n",
    "        return \"N/A\"  # Returns 'N/A' if the date is missing or invalid\n",
    "\n",
    "def clean_csv(input_path, output_path):\n",
    "    \"\"\"\n",
    "    Cleans and formats a CSV file by:\n",
    "    - Formatting the 'Posting Date' column to 'YYYY-MM-DD'.\n",
    "    - Replacing empty cells and '-' with 'N/A'.\n",
    "    \n",
    "    Parameters:\n",
    "    input_path (str): The path to the input CSV file.\n",
    "    output_path (str): The path to save the cleaned CSV file.\n",
    "    \"\"\"\n",
    "    # Reading data from CSV\n",
    "    df = pd.read_csv(input_path)\n",
    "    \n",
    "    # Formatting dates in the 'Posting Date' column\n",
    "    if 'Posting Date' in df.columns:\n",
    "        df['Posting Date'] = df['Posting Date'].apply(format_date)\n",
    "    \n",
    "    # Replacing empty values and '-' with 'N/A'\n",
    "    df.replace({\"-\": \"N/A\", \"\": \"N/A\"}, inplace=True)\n",
    "    \n",
    "    # Saving the cleaned CSV\n",
    "    df.to_csv(output_path, index=False)\n",
    "\n",
    "# File paths\n",
    "input_path = 'Pet Project 2608.csv'  \n",
    "output_path = 'cleaned_data.csv'  \n",
    "\n",
    "\n",
    "clean_csv(input_path, output_path)\n",
    "\n"
   ]
  }
 ],
 "metadata": {
  "kernelspec": {
   "display_name": "Python 3",
   "language": "python",
   "name": "python3"
  },
  "language_info": {
   "codemirror_mode": {
    "name": "ipython",
    "version": 3
   },
   "file_extension": ".py",
   "mimetype": "text/x-python",
   "name": "python",
   "nbconvert_exporter": "python",
   "pygments_lexer": "ipython3",
   "version": "3.10.2"
  }
 },
 "nbformat": 4,
 "nbformat_minor": 2
}
